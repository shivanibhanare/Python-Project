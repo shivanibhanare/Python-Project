{
 "cells": [
  {
   "cell_type": "code",
   "execution_count": 2,
   "id": "ddb62fbe",
   "metadata": {},
   "outputs": [],
   "source": [
    "import numpy as np\n",
    "import pandas as pd"
   ]
  },
  {
   "cell_type": "code",
   "execution_count": 3,
   "id": "ccd6f698",
   "metadata": {},
   "outputs": [],
   "source": [
    "patients = pd.read_csv('state_wise_daily data file.csv')"
   ]
  },
  {
   "cell_type": "code",
   "execution_count": 4,
   "id": "6132209b",
   "metadata": {},
   "outputs": [
    {
     "data": {
      "text/plain": [
       "Confirmed    597\n",
       "Recovered    597\n",
       "Deceased     597\n",
       "Name: Status, dtype: int64"
      ]
     },
     "execution_count": 4,
     "metadata": {},
     "output_type": "execute_result"
    }
   ],
   "source": [
    "patients['Status'].value_counts()"
   ]
  },
  {
   "cell_type": "code",
   "execution_count": 8,
   "id": "ffa6a2e5",
   "metadata": {},
   "outputs": [],
   "source": [
    "total = patients.shape[0]\n",
    "active = patients[patients['Status']=='confirmed'].shape[0]\n",
    "recovered = patients[patients['Status']=='Recovered'].shape[0]\n",
    "deaths = patients[patients['Status']=='Deceased'].shape[0]"
   ]
  },
  {
   "cell_type": "code",
   "execution_count": 9,
   "id": "d886f79f",
   "metadata": {},
   "outputs": [],
   "source": [
    "recovered=patients[patients['Status']=='Recovered'].shape[0]"
   ]
  },
  {
   "cell_type": "code",
   "execution_count": 10,
   "id": "7af71c8c",
   "metadata": {},
   "outputs": [
    {
     "data": {
      "text/plain": [
       "597"
      ]
     },
     "execution_count": 10,
     "metadata": {},
     "output_type": "execute_result"
    }
   ],
   "source": [
    "recovered"
   ]
  },
  {
   "cell_type": "code",
   "execution_count": 11,
   "id": "611a6b17",
   "metadata": {},
   "outputs": [],
   "source": [
    "deaths = patients[patients['Status']=='Deceased'].shape[0]"
   ]
  },
  {
   "cell_type": "code",
   "execution_count": 12,
   "id": "a10416a2",
   "metadata": {},
   "outputs": [
    {
     "data": {
      "text/plain": [
       "597"
      ]
     },
     "execution_count": 12,
     "metadata": {},
     "output_type": "execute_result"
    }
   ],
   "source": [
    "deaths"
   ]
  },
  {
   "cell_type": "code",
   "execution_count": null,
   "id": "28ef6d5c",
   "metadata": {},
   "outputs": [],
   "source": []
  }
 ],
 "metadata": {
  "kernelspec": {
   "display_name": "Python 3 (ipykernel)",
   "language": "python",
   "name": "python3"
  },
  "language_info": {
   "codemirror_mode": {
    "name": "ipython",
    "version": 3
   },
   "file_extension": ".py",
   "mimetype": "text/x-python",
   "name": "python",
   "nbconvert_exporter": "python",
   "pygments_lexer": "ipython3",
   "version": "3.11.4"
  }
 },
 "nbformat": 4,
 "nbformat_minor": 5
}
